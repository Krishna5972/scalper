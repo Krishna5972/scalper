{
 "cells": [
  {
   "cell_type": "code",
   "execution_count": 4,
   "id": "d47e5224",
   "metadata": {},
   "outputs": [],
   "source": [
    "import pandas as pd\n",
    "import config\n",
    "from binance.client import Client\n",
    "from modules import *"
   ]
  },
  {
   "cell_type": "code",
   "execution_count": 5,
   "id": "adce81fa",
   "metadata": {},
   "outputs": [],
   "source": [
    "client=Client(config.api_key,config.secret_key)"
   ]
  },
  {
   "cell_type": "code",
   "execution_count": 11,
   "id": "000f5491",
   "metadata": {},
   "outputs": [],
   "source": [
    "exchange_info = client.futures_exchange_info()\n",
    "\n",
    "for symbol in exchange_info['symbols']:\n",
    "    if symbol['symbol'] == f\"{coin}USDT\":\n",
    "        round_quantity = symbol['quantityPrecision']\n",
    "        break"
   ]
  },
  {
   "cell_type": "code",
   "execution_count": 13,
   "id": "1e49e94e",
   "metadata": {},
   "outputs": [
    {
     "data": {
      "text/plain": [
       "3"
      ]
     },
     "execution_count": 13,
     "metadata": {},
     "output_type": "execute_result"
    }
   ],
   "source": [
    "round_quantity"
   ]
  },
  {
   "cell_type": "code",
   "execution_count": 114,
   "id": "3e234e18",
   "metadata": {},
   "outputs": [],
   "source": [
    "coin = 'ETH'\n",
    "entry = 1846.56\n",
    "\n",
    "round_price = 2\n",
    "take_profit = 1900\n",
    "lowerband = 1700\n",
    "upperband = 1800\n",
    "\n",
    "quantity = round(24/entry, round_quantity)"
   ]
  },
  {
   "cell_type": "code",
   "execution_count": 117,
   "id": "87cbaedf",
   "metadata": {},
   "outputs": [],
   "source": [
    "o = Order(coin = coin,\n",
    "                            entry = entry,\n",
    "                            quantity = quantity,\n",
    "                            round_price = round_price,\n",
    "                            change = None,\n",
    "                            take_profit  = take_profit,\n",
    "                            lowerband = lowerband,\n",
    "                            upperband = upperband\n",
    "                            )"
   ]
  },
  {
   "cell_type": "code",
   "execution_count": 106,
   "id": "7c96a0ee",
   "metadata": {},
   "outputs": [
    {
     "data": {
      "text/plain": [
       "<modules.Order at 0x211c617db80>"
      ]
     },
     "execution_count": 106,
     "metadata": {},
     "output_type": "execute_result"
    }
   ],
   "source": [
    "o"
   ]
  },
  {
   "cell_type": "code",
   "execution_count": 107,
   "id": "655dd527",
   "metadata": {},
   "outputs": [],
   "source": [
    "order_details = client.futures_create_order(symbol=f'{o.coin}USDT', side='BUY', type='MARKET', quantity=o.quantity, dualSidePosition=True, positionSide='LONG')\n"
   ]
  },
  {
   "cell_type": "code",
   "execution_count": 108,
   "id": "80acb68d",
   "metadata": {},
   "outputs": [
    {
     "data": {
      "text/plain": [
       "{'orderId': 8389765622980676606,\n",
       " 'symbol': 'ETHUSDT',\n",
       " 'status': 'NEW',\n",
       " 'clientOrderId': 'XiLAaGp82KqQpGNE7S0SBx',\n",
       " 'price': '0.00',\n",
       " 'avgPrice': '0.00',\n",
       " 'origQty': '0.014',\n",
       " 'executedQty': '0.000',\n",
       " 'cumQty': '0.000',\n",
       " 'cumQuote': '0.00000',\n",
       " 'timeInForce': 'GTC',\n",
       " 'type': 'MARKET',\n",
       " 'reduceOnly': False,\n",
       " 'closePosition': False,\n",
       " 'side': 'BUY',\n",
       " 'positionSide': 'LONG',\n",
       " 'stopPrice': '0.00',\n",
       " 'workingType': 'CONTRACT_PRICE',\n",
       " 'priceProtect': False,\n",
       " 'origType': 'MARKET',\n",
       " 'priceMatch': 'NONE',\n",
       " 'selfTradePreventionMode': 'NONE',\n",
       " 'goodTillDate': 0,\n",
       " 'updateTime': 1698148755649}"
      ]
     },
     "execution_count": 108,
     "metadata": {},
     "output_type": "execute_result"
    }
   ],
   "source": [
    "order_details"
   ]
  },
  {
   "cell_type": "code",
   "execution_count": 119,
   "id": "9ce5fb4c",
   "metadata": {},
   "outputs": [],
   "source": [
    "limit_order_details =  client.futures_create_order(\n",
    "                                    symbol=f'{o.coin}USDT',\n",
    "                                    price=round(o.take_profit,o.round_price),\n",
    "                                    side='SELL',\n",
    "                                    positionSide='LONG',\n",
    "                                    quantity=o.take_profit,\n",
    "                                    timeInForce='GTC',\n",
    "                                    type='LIMIT',\n",
    "                                    # reduceOnly=True,cc\n",
    "                                    closePosition=False,\n",
    "                                    # stopPrice=round(take_profit,2),\n",
    "                                    workingType='MARK_PRICE',\n",
    "                                    priceProtect=True\n",
    "                                )"
   ]
  },
  {
   "cell_type": "code",
   "execution_count": 120,
   "id": "d60387c5",
   "metadata": {},
   "outputs": [
    {
     "data": {
      "text/plain": [
       "{'orderId': 8389765622982524493,\n",
       " 'symbol': 'ETHUSDT',\n",
       " 'status': 'NEW',\n",
       " 'clientOrderId': 'r10TXVydtzXHpEnOJmD5aA',\n",
       " 'price': '1900.00',\n",
       " 'avgPrice': '0.00',\n",
       " 'origQty': '0.014',\n",
       " 'executedQty': '0.000',\n",
       " 'cumQty': '0.000',\n",
       " 'cumQuote': '0.00000',\n",
       " 'timeInForce': 'GTC',\n",
       " 'type': 'LIMIT',\n",
       " 'reduceOnly': True,\n",
       " 'closePosition': False,\n",
       " 'side': 'SELL',\n",
       " 'positionSide': 'LONG',\n",
       " 'stopPrice': '0.00',\n",
       " 'workingType': 'CONTRACT_PRICE',\n",
       " 'priceProtect': False,\n",
       " 'origType': 'LIMIT',\n",
       " 'priceMatch': 'NONE',\n",
       " 'selfTradePreventionMode': 'NONE',\n",
       " 'goodTillDate': 0,\n",
       " 'updateTime': 1698149041068}"
      ]
     },
     "execution_count": 120,
     "metadata": {},
     "output_type": "execute_result"
    }
   ],
   "source": [
    "limit_order_details"
   ]
  },
  {
   "cell_type": "code",
   "execution_count": 118,
   "id": "0bd5c6ca",
   "metadata": {},
   "outputs": [
    {
     "data": {
      "text/plain": [
       "1846.56"
      ]
     },
     "execution_count": 118,
     "metadata": {},
     "output_type": "execute_result"
    }
   ],
   "source": [
    "o.entry "
   ]
  },
  {
   "cell_type": "code",
   "execution_count": 123,
   "id": "3ad4871b",
   "metadata": {},
   "outputs": [
    {
     "data": {
      "text/plain": [
       "1851.43"
      ]
     },
     "execution_count": 123,
     "metadata": {},
     "output_type": "execute_result"
    }
   ],
   "source": [
    "price = 1851.43\n",
    "\n",
    "\n",
    "rounded_price = round(price, o.round_price)\n",
    "rounded_price"
   ]
  },
  {
   "cell_type": "code",
   "execution_count": 124,
   "id": "450275db",
   "metadata": {},
   "outputs": [],
   "source": [
    "dca_order_details =   client.futures_create_order(\n",
    "            symbol=f'{o.coin}USDT',\n",
    "            side='BUY',\n",
    "            type='LIMIT',\n",
    "            price=rounded_price,\n",
    "            quantity=o.quantity,\n",
    "            timeInForce='GTC',\n",
    "            positionSide='LONG',\n",
    "            dualSidePosition=True\n",
    "        )\n"
   ]
  },
  {
   "cell_type": "code",
   "execution_count": 125,
   "id": "69be982e",
   "metadata": {},
   "outputs": [
    {
     "data": {
      "text/plain": [
       "{'orderId': 8389765622983006486,\n",
       " 'symbol': 'ETHUSDT',\n",
       " 'status': 'NEW',\n",
       " 'clientOrderId': 't2w43jU1hPC5wRGFSTeoWE',\n",
       " 'price': '1851.43',\n",
       " 'avgPrice': '0.00',\n",
       " 'origQty': '0.013',\n",
       " 'executedQty': '0.000',\n",
       " 'cumQty': '0.000',\n",
       " 'cumQuote': '0.00000',\n",
       " 'timeInForce': 'GTC',\n",
       " 'type': 'LIMIT',\n",
       " 'reduceOnly': False,\n",
       " 'closePosition': False,\n",
       " 'side': 'BUY',\n",
       " 'positionSide': 'LONG',\n",
       " 'stopPrice': '0.00',\n",
       " 'workingType': 'CONTRACT_PRICE',\n",
       " 'priceProtect': False,\n",
       " 'origType': 'LIMIT',\n",
       " 'priceMatch': 'NONE',\n",
       " 'selfTradePreventionMode': 'NONE',\n",
       " 'goodTillDate': 0,\n",
       " 'updateTime': 1698149108369}"
      ]
     },
     "execution_count": 125,
     "metadata": {},
     "output_type": "execute_result"
    }
   ],
   "source": [
    "dca_order_details"
   ]
  },
  {
   "cell_type": "code",
   "execution_count": 58,
   "id": "73c0c986",
   "metadata": {},
   "outputs": [
    {
     "data": {
      "text/plain": [
       "{8389765622804036829: 8389765622804084388}"
      ]
     },
     "execution_count": 58,
     "metadata": {},
     "output_type": "execute_result"
    }
   ],
   "source": []
  },
  {
   "cell_type": "code",
   "execution_count": 68,
   "id": "77cb76ad",
   "metadata": {},
   "outputs": [],
   "source": [
    "master_order_history = {}"
   ]
  },
  {
   "cell_type": "code",
   "execution_count": 69,
   "id": "e094b224",
   "metadata": {},
   "outputs": [],
   "source": [
    "coin_dict = master_order_history.setdefault(o.coin, {})\n",
    "buy_dict = coin_dict.setdefault('Buy', {})\n",
    "\n",
    "buy_dict[o.take_profit] = {limit_order_details['orderId'] : dca_order_details['orderId']}"
   ]
  },
  {
   "cell_type": "code",
   "execution_count": 71,
   "id": "a122a997",
   "metadata": {},
   "outputs": [],
   "source": [
    "buy_dict[1820] = {limit_order_details['orderId']+1 : dca_order_details['orderId']+1}"
   ]
  },
  {
   "cell_type": "code",
   "execution_count": 72,
   "id": "cbb8ecd0",
   "metadata": {},
   "outputs": [
    {
     "data": {
      "text/plain": [
       "{'ETH': {'Buy': {1800: {8389765622804036829: 8389765622804084388},\n",
       "   1820: {8389765622804036830: 8389765622804084389}}}}"
      ]
     },
     "execution_count": 72,
     "metadata": {},
     "output_type": "execute_result"
    }
   ],
   "source": [
    "master_order_history"
   ]
  },
  {
   "cell_type": "code",
   "execution_count": 81,
   "id": "1efa3150",
   "metadata": {},
   "outputs": [
    {
     "name": "stdout",
     "output_type": "stream",
     "text": [
      "1776.5\n",
      "1781.5\n",
      "1786.5\n",
      "1791.5\n",
      "1796.5\n",
      "1801.5\n",
      "1806.5\n",
      "1811.5\n",
      "1816.5\n",
      "1821.5\n",
      "[8389765622804084389]\n"
     ]
    }
   ],
   "source": [
    "high_price = 1771.5\n",
    "dca_orders = []\n",
    "\n",
    "# Checking if the coin and 'Buy' dictionary exist\n",
    "exit_outer_loop = False\n",
    "\n",
    "while True:\n",
    "    high_price += 5\n",
    "    print(high_price)\n",
    "    if o.coin in master_order_history and 'Buy' in master_order_history[o.coin]:\n",
    "        buy_dict = master_order_history[o.coin]['Buy']\n",
    "        for rounded_price in list(buy_dict.keys()):  # iterate over a copy of the keys\n",
    "            if high_price > rounded_price:\n",
    "                dca_orders.extend(buy_dict[rounded_price].values())\n",
    "                del buy_dict[rounded_price]  # remove the key-value pair from the dictionary\n",
    "                exit_outer_loop = True\n",
    "                break\n",
    "                \n",
    "    if exit_outer_loop:\n",
    "        break\n",
    "\n",
    "print(dca_orders)\n"
   ]
  },
  {
   "cell_type": "code",
   "execution_count": 82,
   "id": "1c8799b3",
   "metadata": {},
   "outputs": [
    {
     "data": {
      "text/plain": [
       "{'ETH': {'Buy': {}}}"
      ]
     },
     "execution_count": 82,
     "metadata": {},
     "output_type": "execute_result"
    }
   ],
   "source": [
    "master_order_history"
   ]
  },
  {
   "cell_type": "code",
   "execution_count": null,
   "id": "20e0c506",
   "metadata": {},
   "outputs": [],
   "source": [
    "\n",
    "Buy : {\n",
    "\n",
    "\n",
    "   'limitOrderPirce' :  'orderID' \n",
    "}\n",
    "\n",
    "sell : {\n",
    "\n",
    "    'limitOrderPirce' :  'orderID' \n",
    "}\n",
    "\n",
    "if currentPrice > 'limitOrderPirce':\n",
    "    cancel that limit order\n"
   ]
  },
  {
   "cell_type": "code",
   "execution_count": 83,
   "id": "d62ba334",
   "metadata": {},
   "outputs": [],
   "source": [
    "master_order_history = {\n",
    "    'BTC': {  # Bitcoin\n",
    "        'Sell': {\n",
    "            45000: {  # Price at which the sell order is set\n",
    "                'limit_order_001': 'dca_order_001',\n",
    "                'limit_order_002': 'dca_order_002'\n",
    "            },\n",
    "            46000: {\n",
    "                'limit_order_003': 'dca_order_003',\n",
    "            }\n",
    "        },\n",
    "        'Buy': {\n",
    "            44000: {\n",
    "                'limit_order_004': 'dca_order_004',\n",
    "            }\n",
    "        }\n",
    "    }\n",
    "}\n",
    "\n"
   ]
  },
  {
   "cell_type": "code",
   "execution_count": 93,
   "id": "18a6c50f",
   "metadata": {},
   "outputs": [
    {
     "data": {
      "text/plain": [
       "{'BTC': {'Sell': {45000: {'limit_order_001': 'dca_order_001',\n",
       "    'limit_order_002': 'dca_order_002'},\n",
       "   46000: {'limit_order_003': 'dca_order_003'}},\n",
       "  'Buy': {44000: {'limit_order_004': 'dca_order_004'}}}}"
      ]
     },
     "execution_count": 93,
     "metadata": {},
     "output_type": "execute_result"
    }
   ],
   "source": [
    "dca_orders = []\n",
    "master_order_history"
   ]
  },
  {
   "cell_type": "code",
   "execution_count": 94,
   "id": "2d33f368",
   "metadata": {},
   "outputs": [],
   "source": [
    "low = 45999"
   ]
  },
  {
   "cell_type": "code",
   "execution_count": 95,
   "id": "1dfccbde",
   "metadata": {},
   "outputs": [],
   "source": [
    "if 'BTC' in master_order_history and 'Sell' in master_order_history['BTC']:\n",
    "    buy_dict = master_order_history['BTC']['Sell']\n",
    "    for rounded_price in list(buy_dict.keys()):  # iterate over a copy of the keys\n",
    "        if low < rounded_price:\n",
    "            dca_orders.extend(buy_dict[rounded_price].values())"
   ]
  },
  {
   "cell_type": "code",
   "execution_count": 96,
   "id": "18fc4716",
   "metadata": {},
   "outputs": [
    {
     "data": {
      "text/plain": [
       "['dca_order_003']"
      ]
     },
     "execution_count": 96,
     "metadata": {},
     "output_type": "execute_result"
    }
   ],
   "source": [
    "dca_orders"
   ]
  },
  {
   "cell_type": "code",
   "execution_count": 98,
   "id": "f2e6cbe0",
   "metadata": {},
   "outputs": [
    {
     "data": {
      "text/plain": [
       "{45000: {'limit_order_001': 'dca_order_001',\n",
       "  'limit_order_002': 'dca_order_002'},\n",
       " 46000: {'limit_order_003': 'dca_order_003'}}"
      ]
     },
     "execution_count": 98,
     "metadata": {},
     "output_type": "execute_result"
    }
   ],
   "source": [
    "buy_dict = master_order_history['BTC']['Sell']\n",
    "buy_dict"
   ]
  },
  {
   "cell_type": "code",
   "execution_count": 99,
   "id": "732f1b5b",
   "metadata": {},
   "outputs": [
    {
     "data": {
      "text/plain": [
       "[45000, 46000]"
      ]
     },
     "execution_count": 99,
     "metadata": {},
     "output_type": "execute_result"
    }
   ],
   "source": [
    "list(buy_dict.keys())"
   ]
  },
  {
   "cell_type": "code",
   "execution_count": 102,
   "id": "226cb5ce",
   "metadata": {},
   "outputs": [
    {
     "data": {
      "text/plain": [
       "{'limit_order_001': 'dca_order_001', 'limit_order_002': 'dca_order_002'}"
      ]
     },
     "execution_count": 102,
     "metadata": {},
     "output_type": "execute_result"
    }
   ],
   "source": [
    "buy_dict[45000]"
   ]
  },
  {
   "cell_type": "code",
   "execution_count": 126,
   "id": "0fe923d0",
   "metadata": {},
   "outputs": [],
   "source": [
    "account_history = client.futures_account_trades(limit = 1000)\n",
    "df = pd.DataFrame(account_history)"
   ]
  },
  {
   "cell_type": "code",
   "execution_count": 127,
   "id": "5d5e0867",
   "metadata": {},
   "outputs": [
    {
     "data": {
      "text/html": [
       "<div>\n",
       "<style scoped>\n",
       "    .dataframe tbody tr th:only-of-type {\n",
       "        vertical-align: middle;\n",
       "    }\n",
       "\n",
       "    .dataframe tbody tr th {\n",
       "        vertical-align: top;\n",
       "    }\n",
       "\n",
       "    .dataframe thead th {\n",
       "        text-align: right;\n",
       "    }\n",
       "</style>\n",
       "<table border=\"1\" class=\"dataframe\">\n",
       "  <thead>\n",
       "    <tr style=\"text-align: right;\">\n",
       "      <th></th>\n",
       "      <th>symbol</th>\n",
       "      <th>id</th>\n",
       "      <th>orderId</th>\n",
       "      <th>side</th>\n",
       "      <th>price</th>\n",
       "      <th>qty</th>\n",
       "      <th>realizedPnl</th>\n",
       "      <th>marginAsset</th>\n",
       "      <th>quoteQty</th>\n",
       "      <th>commission</th>\n",
       "      <th>commissionAsset</th>\n",
       "      <th>time</th>\n",
       "      <th>positionSide</th>\n",
       "      <th>buyer</th>\n",
       "      <th>maker</th>\n",
       "    </tr>\n",
       "  </thead>\n",
       "  <tbody>\n",
       "    <tr>\n",
       "      <th>0</th>\n",
       "      <td>BNXUSDT</td>\n",
       "      <td>40777152</td>\n",
       "      <td>1236281070</td>\n",
       "      <td>SELL</td>\n",
       "      <td>0.279200</td>\n",
       "      <td>146.7</td>\n",
       "      <td>0</td>\n",
       "      <td>USDT</td>\n",
       "      <td>40.9586400</td>\n",
       "      <td>0.02047931</td>\n",
       "      <td>USDT</td>\n",
       "      <td>1697545422867</td>\n",
       "      <td>SHORT</td>\n",
       "      <td>False</td>\n",
       "      <td>False</td>\n",
       "    </tr>\n",
       "    <tr>\n",
       "      <th>1</th>\n",
       "      <td>BNXUSDT</td>\n",
       "      <td>40777153</td>\n",
       "      <td>1236281070</td>\n",
       "      <td>SELL</td>\n",
       "      <td>0.279100</td>\n",
       "      <td>678.4</td>\n",
       "      <td>0</td>\n",
       "      <td>USDT</td>\n",
       "      <td>189.3414400</td>\n",
       "      <td>0.09467072</td>\n",
       "      <td>USDT</td>\n",
       "      <td>1697545422867</td>\n",
       "      <td>SHORT</td>\n",
       "      <td>False</td>\n",
       "      <td>False</td>\n",
       "    </tr>\n",
       "    <tr>\n",
       "      <th>2</th>\n",
       "      <td>BNXUSDT</td>\n",
       "      <td>40777154</td>\n",
       "      <td>1236281070</td>\n",
       "      <td>SELL</td>\n",
       "      <td>0.279100</td>\n",
       "      <td>943.3</td>\n",
       "      <td>0</td>\n",
       "      <td>USDT</td>\n",
       "      <td>263.2750300</td>\n",
       "      <td>0.13163751</td>\n",
       "      <td>USDT</td>\n",
       "      <td>1697545422867</td>\n",
       "      <td>SHORT</td>\n",
       "      <td>False</td>\n",
       "      <td>False</td>\n",
       "    </tr>\n",
       "    <tr>\n",
       "      <th>3</th>\n",
       "      <td>BNXUSDT</td>\n",
       "      <td>40777155</td>\n",
       "      <td>1236281070</td>\n",
       "      <td>SELL</td>\n",
       "      <td>0.279100</td>\n",
       "      <td>142.1</td>\n",
       "      <td>0</td>\n",
       "      <td>USDT</td>\n",
       "      <td>39.6601100</td>\n",
       "      <td>0.01983005</td>\n",
       "      <td>USDT</td>\n",
       "      <td>1697545422867</td>\n",
       "      <td>SHORT</td>\n",
       "      <td>False</td>\n",
       "      <td>False</td>\n",
       "    </tr>\n",
       "    <tr>\n",
       "      <th>4</th>\n",
       "      <td>BNXUSDT</td>\n",
       "      <td>40777156</td>\n",
       "      <td>1236281070</td>\n",
       "      <td>SELL</td>\n",
       "      <td>0.279100</td>\n",
       "      <td>300</td>\n",
       "      <td>0</td>\n",
       "      <td>USDT</td>\n",
       "      <td>83.7300000</td>\n",
       "      <td>0.04186500</td>\n",
       "      <td>USDT</td>\n",
       "      <td>1697545422867</td>\n",
       "      <td>SHORT</td>\n",
       "      <td>False</td>\n",
       "      <td>False</td>\n",
       "    </tr>\n",
       "    <tr>\n",
       "      <th>...</th>\n",
       "      <td>...</td>\n",
       "      <td>...</td>\n",
       "      <td>...</td>\n",
       "      <td>...</td>\n",
       "      <td>...</td>\n",
       "      <td>...</td>\n",
       "      <td>...</td>\n",
       "      <td>...</td>\n",
       "      <td>...</td>\n",
       "      <td>...</td>\n",
       "      <td>...</td>\n",
       "      <td>...</td>\n",
       "      <td>...</td>\n",
       "      <td>...</td>\n",
       "      <td>...</td>\n",
       "    </tr>\n",
       "    <tr>\n",
       "      <th>887</th>\n",
       "      <td>UNFIUSDT</td>\n",
       "      <td>280835705</td>\n",
       "      <td>4651760058</td>\n",
       "      <td>BUY</td>\n",
       "      <td>7.331</td>\n",
       "      <td>3.3</td>\n",
       "      <td>0</td>\n",
       "      <td>USDT</td>\n",
       "      <td>24.1923</td>\n",
       "      <td>0.01209615</td>\n",
       "      <td>USDT</td>\n",
       "      <td>1698114546678</td>\n",
       "      <td>LONG</td>\n",
       "      <td>True</td>\n",
       "      <td>False</td>\n",
       "    </tr>\n",
       "    <tr>\n",
       "      <th>888</th>\n",
       "      <td>UNFIUSDT</td>\n",
       "      <td>280838492</td>\n",
       "      <td>4651760267</td>\n",
       "      <td>SELL</td>\n",
       "      <td>7.399</td>\n",
       "      <td>1</td>\n",
       "      <td>0.06800000</td>\n",
       "      <td>USDT</td>\n",
       "      <td>7.3990</td>\n",
       "      <td>0.00147980</td>\n",
       "      <td>USDT</td>\n",
       "      <td>1698114831417</td>\n",
       "      <td>LONG</td>\n",
       "      <td>False</td>\n",
       "      <td>True</td>\n",
       "    </tr>\n",
       "    <tr>\n",
       "      <th>889</th>\n",
       "      <td>UNFIUSDT</td>\n",
       "      <td>280838493</td>\n",
       "      <td>4651760267</td>\n",
       "      <td>SELL</td>\n",
       "      <td>7.399</td>\n",
       "      <td>2.3</td>\n",
       "      <td>0.15640000</td>\n",
       "      <td>USDT</td>\n",
       "      <td>17.0177</td>\n",
       "      <td>0.00340354</td>\n",
       "      <td>USDT</td>\n",
       "      <td>1698114831438</td>\n",
       "      <td>LONG</td>\n",
       "      <td>False</td>\n",
       "      <td>True</td>\n",
       "    </tr>\n",
       "    <tr>\n",
       "      <th>890</th>\n",
       "      <td>ETHUSDT</td>\n",
       "      <td>3300807759</td>\n",
       "      <td>8389765622980676606</td>\n",
       "      <td>BUY</td>\n",
       "      <td>1842.13</td>\n",
       "      <td>0.014</td>\n",
       "      <td>0</td>\n",
       "      <td>USDT</td>\n",
       "      <td>25.78982</td>\n",
       "      <td>0.01289491</td>\n",
       "      <td>USDT</td>\n",
       "      <td>1698148755649</td>\n",
       "      <td>LONG</td>\n",
       "      <td>True</td>\n",
       "      <td>False</td>\n",
       "    </tr>\n",
       "    <tr>\n",
       "      <th>891</th>\n",
       "      <td>ETHUSDT</td>\n",
       "      <td>3300877609</td>\n",
       "      <td>8389765622983006486</td>\n",
       "      <td>BUY</td>\n",
       "      <td>1851.43</td>\n",
       "      <td>0.013</td>\n",
       "      <td>0</td>\n",
       "      <td>USDT</td>\n",
       "      <td>24.06859</td>\n",
       "      <td>0.00481371</td>\n",
       "      <td>USDT</td>\n",
       "      <td>1698149115353</td>\n",
       "      <td>LONG</td>\n",
       "      <td>True</td>\n",
       "      <td>True</td>\n",
       "    </tr>\n",
       "  </tbody>\n",
       "</table>\n",
       "<p>892 rows × 15 columns</p>\n",
       "</div>"
      ],
      "text/plain": [
       "       symbol          id              orderId  side     price    qty  \\\n",
       "0     BNXUSDT    40777152           1236281070  SELL  0.279200  146.7   \n",
       "1     BNXUSDT    40777153           1236281070  SELL  0.279100  678.4   \n",
       "2     BNXUSDT    40777154           1236281070  SELL  0.279100  943.3   \n",
       "3     BNXUSDT    40777155           1236281070  SELL  0.279100  142.1   \n",
       "4     BNXUSDT    40777156           1236281070  SELL  0.279100    300   \n",
       "..        ...         ...                  ...   ...       ...    ...   \n",
       "887  UNFIUSDT   280835705           4651760058   BUY     7.331    3.3   \n",
       "888  UNFIUSDT   280838492           4651760267  SELL     7.399      1   \n",
       "889  UNFIUSDT   280838493           4651760267  SELL     7.399    2.3   \n",
       "890   ETHUSDT  3300807759  8389765622980676606   BUY   1842.13  0.014   \n",
       "891   ETHUSDT  3300877609  8389765622983006486   BUY   1851.43  0.013   \n",
       "\n",
       "    realizedPnl marginAsset     quoteQty  commission commissionAsset  \\\n",
       "0             0        USDT   40.9586400  0.02047931            USDT   \n",
       "1             0        USDT  189.3414400  0.09467072            USDT   \n",
       "2             0        USDT  263.2750300  0.13163751            USDT   \n",
       "3             0        USDT   39.6601100  0.01983005            USDT   \n",
       "4             0        USDT   83.7300000  0.04186500            USDT   \n",
       "..          ...         ...          ...         ...             ...   \n",
       "887           0        USDT      24.1923  0.01209615            USDT   \n",
       "888  0.06800000        USDT       7.3990  0.00147980            USDT   \n",
       "889  0.15640000        USDT      17.0177  0.00340354            USDT   \n",
       "890           0        USDT     25.78982  0.01289491            USDT   \n",
       "891           0        USDT     24.06859  0.00481371            USDT   \n",
       "\n",
       "              time positionSide  buyer  maker  \n",
       "0    1697545422867        SHORT  False  False  \n",
       "1    1697545422867        SHORT  False  False  \n",
       "2    1697545422867        SHORT  False  False  \n",
       "3    1697545422867        SHORT  False  False  \n",
       "4    1697545422867        SHORT  False  False  \n",
       "..             ...          ...    ...    ...  \n",
       "887  1698114546678         LONG   True  False  \n",
       "888  1698114831417         LONG  False   True  \n",
       "889  1698114831438         LONG  False   True  \n",
       "890  1698148755649         LONG   True  False  \n",
       "891  1698149115353         LONG   True   True  \n",
       "\n",
       "[892 rows x 15 columns]"
      ]
     },
     "execution_count": 127,
     "metadata": {},
     "output_type": "execute_result"
    }
   ],
   "source": [
    "df"
   ]
  },
  {
   "cell_type": "code",
   "execution_count": 130,
   "id": "1a9adddf",
   "metadata": {},
   "outputs": [
    {
     "name": "stdout",
     "output_type": "stream",
     "text": [
      "Precesion for coin : MINA : 0\n"
     ]
    }
   ],
   "source": [
    "exchange_info = client.futures_exchange_info()\n",
    "o.coin = 'MINA'\n",
    "coin = o.coin\n",
    "for symbol in exchange_info['symbols']:\n",
    "    if symbol['symbol'] == f\"{coin}USDT\":\n",
    "        round_quantity = symbol['quantityPrecision']\n",
    "        print(f'Precesion for coin : {coin} : {round_quantity}')\n",
    "        break"
   ]
  },
  {
   "cell_type": "code",
   "execution_count": 132,
   "id": "acc043ed",
   "metadata": {},
   "outputs": [],
   "source": [
    "limit_order_details =  client.futures_create_order(\n",
    "                                    symbol=f'{o.coin}USDT',\n",
    "                                    price=0.9000,\n",
    "                                    side='SELL',\n",
    "                                    positionSide='LONG',\n",
    "                                    quantity=100,\n",
    "                                    timeInForce='GTC',\n",
    "                                    type='LIMIT',\n",
    "                                    # reduceOnly=True,cc\n",
    "                                    closePosition=False,\n",
    "                                    # stopPrice=round(take_profit,2),\n",
    "                                    workingType='MARK_PRICE',\n",
    "                                    priceProtect=True\n",
    "                                )"
   ]
  },
  {
   "cell_type": "code",
   "execution_count": null,
   "id": "61751e07",
   "metadata": {},
   "outputs": [],
   "source": []
  }
 ],
 "metadata": {
  "kernelspec": {
   "display_name": "Python 3 (ipykernel)",
   "language": "python",
   "name": "python3"
  },
  "language_info": {
   "codemirror_mode": {
    "name": "ipython",
    "version": 3
   },
   "file_extension": ".py",
   "mimetype": "text/x-python",
   "name": "python",
   "nbconvert_exporter": "python",
   "pygments_lexer": "ipython3",
   "version": "3.9.12"
  }
 },
 "nbformat": 4,
 "nbformat_minor": 5
}
